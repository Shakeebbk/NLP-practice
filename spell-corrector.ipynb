{
 "cells": [
  {
   "cell_type": "code",
   "execution_count": 1,
   "metadata": {},
   "outputs": [],
   "source": [
    "import re\n",
    "from collections import Counter"
   ]
  },
  {
   "cell_type": "code",
   "execution_count": 2,
   "metadata": {},
   "outputs": [],
   "source": [
    "# function to tokenise words\n",
    "def words(document):\n",
    "    \"Convert text to lower case and tokenise the document\"\n",
    "    return re.findall(r'\\w+', document.lower())"
   ]
  },
  {
   "cell_type": "code",
   "execution_count": 3,
   "metadata": {},
   "outputs": [],
   "source": [
    "# create a frequency table of all the words of the document\n",
    "all_words = Counter(words(open('big.txt').read()))"
   ]
  },
  {
   "cell_type": "code",
   "execution_count": 4,
   "metadata": {},
   "outputs": [
    {
     "data": {
      "text/plain": [
       "135"
      ]
     },
     "execution_count": 4,
     "metadata": {},
     "output_type": "execute_result"
    }
   ],
   "source": [
    "# check frequency of a random word, say, 'chair'\n",
    "all_words['chair']"
   ]
  },
  {
   "cell_type": "code",
   "execution_count": 5,
   "metadata": {},
   "outputs": [
    {
     "data": {
      "text/plain": [
       "[('the', 79809),\n",
       " ('of', 40024),\n",
       " ('and', 38312),\n",
       " ('to', 28765),\n",
       " ('in', 22023),\n",
       " ('a', 21124),\n",
       " ('that', 12512),\n",
       " ('he', 12401),\n",
       " ('was', 11410),\n",
       " ('it', 10681)]"
      ]
     },
     "execution_count": 5,
     "metadata": {},
     "output_type": "execute_result"
    }
   ],
   "source": [
    "# look at top 10 frequent words\n",
    "all_words.most_common(10)"
   ]
  },
  {
   "cell_type": "code",
   "execution_count": 6,
   "metadata": {},
   "outputs": [],
   "source": [
    "def edits_one(word):\n",
    "    \"Create all edits that are one edit away from `word`.\"\n",
    "    alphabets    = 'abcdefghijklmnopqrstuvwxyz'\n",
    "    splits     = [(word[:i], word[i:])                   for i in range(len(word) + 1)]\n",
    "    deletes    = [left + right[1:]                       for left, right in splits if right]\n",
    "    inserts    = [left + c + right                       for left, right in splits for c in alphabets]\n",
    "    replaces   = [left + c + right[1:]                   for left, right in splits if right for c in alphabets]\n",
    "    transposes = [left + right[1] + right[0] + right[2:] for left, right in splits if len(right)>1]\n",
    "    return set(deletes + inserts + replaces + transposes)"
   ]
  },
  {
   "cell_type": "code",
   "execution_count": 7,
   "metadata": {},
   "outputs": [],
   "source": [
    "def edits_two(word):\n",
    "    \"Create all edits that are two edits away from `word`.\"\n",
    "    return (e2 for e1 in edits_one(word) for e2 in edits_one(e1))"
   ]
  },
  {
   "cell_type": "code",
   "execution_count": 8,
   "metadata": {},
   "outputs": [],
   "source": [
    "def known(words):\n",
    "    \"The subset of `words` that appear in the `all_words`.\"\n",
    "    return set(word for word in words if word in all_words)"
   ]
  },
  {
   "cell_type": "code",
   "execution_count": 9,
   "metadata": {},
   "outputs": [],
   "source": [
    "def possible_corrections(word):\n",
    "    \"Generate possible spelling corrections for word.\"\n",
    "    return (known([word]) or known(edits_one(word)) or known(edits_two(word)) or [word])"
   ]
  },
  {
   "cell_type": "code",
   "execution_count": 10,
   "metadata": {},
   "outputs": [],
   "source": [
    "def prob(word, N=sum(all_words.values())): \n",
    "    \"Probability of `word`: Number of appearances of 'word' / total number of tokens\"\n",
    "    return all_words[word] / N"
   ]
  },
  {
   "cell_type": "code",
   "execution_count": 11,
   "metadata": {},
   "outputs": [
    {
     "name": "stdout",
     "output_type": "stream",
     "text": [
      "336\n",
      "{'monneyp', 'monnpey', 'monneyb', 'mqnney', 'monneyn', 'monnei', 'mondey', 'mobnney', 'mopney', 'ronney', 'monhey', 'monsey', 'mznney', 'monnezy', 'rmonney', 'monnes', 'mononey', 'moenney', 'mondney', 'dmonney', 'gonney', 'monneyh', 'mdnney', 'wonney', 'monncey', 'monneye', 'mpnney', 'mongney', 'monaney', 'mocney', 'monneyg', 'mconney', 'monnewy', 'monhney', 'monvney', 'monpney', 'motnney', 'manney', 'monjey', 'mmnney', 'lonney', 'mouney', 'monncy', 'umonney', 'moqnney', 'mbonney', 'mjonney', 'msonney', 'monnec', 'monnsy', 'monniy', 'mongey', 'monkney', 'monneey', 'aonney', 'monnty', 'mobney', 'monnea', 'zmonney', 'monnqey', 'moniey', 'monnef', 'monnbey', 'smonney', 'mnnney', 'honney', 'hmonney', 'lmonney', 'monnly', 'monneyw', 'monnex', 'moneny', 'meonney', 'monneyx', 'monngey', 'monneny', 'mownney', 'mwnney', 'mogney', 'monqney', 'moqney', 'monmey', 'mopnney', 'monnery', 'mognney', 'monneby', 'monnevy', 'moncney', 'monneky', 'mronney', 'monnwy', 'monnel', 'mgnney', 'monjney', 'monnpy', 'maonney', 'moanney', 'monneu', 'jmonney', 'mornney', 'mojney', 'mojnney', 'monneyt', 'ionney', 'monnwey', 'moncey', 'monnzey', 'movnney', 'yonney', 'mjnney', 'omnney', 'monrey', 'mfonney', 'monneh', 'monneiy', 'moxney', 'monnez', 'modnney', 'munney', 'cmonney', 'monnzy', 'mosnney', 'moneey', 'conney', 'fmonney', 'moeney', 'monnhy', 'monuney', 'monneym', 'monngy', 'monneya', 'monbey', 'monfney', 'monneyv', 'monnrey', 'monnhey', 'zonney', 'jonney', 'moinney', 'monneb', 'monnxey', 'mzonney', 'monneyc', 'oonney', 'fonney', 'monnecy', 'momney', 'monneyl', 'mohnney', 'gmonney', 'monzney', 'mtonney', 'monnaey', 'monnoy', 'monyey', 'mvnney', 'bonney', 'monneyj', 'monuey', 'eonney', 'mofnney', 'monnney', 'money', 'monny', 'mknney', 'mgonney', 'mnoney', 'mcnney', 'monnkey', 'monnky', 'morney', 'mponney', 'monwey', 'monxey', 'tmonney', 'monnsey', 'montey', 'monnely', 'nonney', 'omonney', 'monniey', 'monnej', 'monbney', 'monnby', 'monnry', 'monneo', 'mhonney', 'monnuey', 'kmonney', 'monnedy', 'monneuy', 'mocnney', 'monntey', 'monrney', 'motney', 'uonney', 'mqonney', 'onney', 'monnfey', 'monnefy', 'mowney', 'monnjy', 'moyney', 'pmonney', 'mfnney', 'muonney', 'monneyo', 'monnen', 'monnev', 'mounney', 'monndy', 'donney', 'mozney', 'mxonney', 'mkonney', 'vmonney', 'moonney', 'monnye', 'amonney', 'monnety', 'mhnney', 'xonney', 'molnney', 'monnet', 'mbnney', 'qonney', 'monnfy', 'monneay', 'ymonney', 'monnegy', 'mooney', 'monzey', 'monneoy', 'monnley', 'monneyd', 'monneyq', 'mxnney', 'monpey', 'monlney', 'monneyr', 'monnvy', 'monneyf', 'mofney', 'monaey', 'moniney', 'monsney', 'mosney', 'konney', 'mokney', 'qmonney', 'monyney', 'montney', 'monneg', 'monnoey', 'monneq', 'moiney', 'monxney', 'vonney', 'wmonney', 'modney', 'monnxy', 'moaney', 'monner', 'molney', 'monnejy', 'monneyu', 'mnonney', 'monnmey', 'movney', 'monnesy', 'monnep', 'mlonney', 'bmonney', 'monneyi', 'monley', 'moneney', 'imonney', 'momnney', 'monneyy', 'monnqy', 'monneys', 'monkey', 'monnyey', 'ponney', 'msnney', 'monne', 'monnuy', 'monnvey', 'emonney', 'monnmy', 'moknney', 'monnyy', 'mtnney', 'mmonney', 'mlnney', 'myonney', 'monnny', 'monned', 'monneyz', 'monqey', 'monnay', 'tonney', 'mnney', 'monnepy', 'monnek', 'monney', 'monfey', 'monnexy', 'minney', 'monnem', 'monnew', 'monwney', 'monnee', 'monneqy', 'mohney', 'mrnney', 'menney', 'monneyk', 'monmney', 'monvey', 'moxnney', 'monoey', 'mvonney', 'mwonney', 'xmonney', 'mionney', 'monnjey', 'moznney', 'mdonney', 'sonney', 'monndey', 'moynney', 'monnehy', 'nmonney', 'monnemy', 'mynney'}\n"
     ]
    }
   ],
   "source": [
    "print(len(set(edits_one(\"monney\"))))\n",
    "print(edits_one(\"monney\"))"
   ]
  },
  {
   "cell_type": "code",
   "execution_count": 12,
   "metadata": {},
   "outputs": [
    {
     "name": "stdout",
     "output_type": "stream",
     "text": [
      "{'monkey', 'money'}\n"
     ]
    }
   ],
   "source": [
    "print(known(edits_one(\"monney\")))"
   ]
  },
  {
   "cell_type": "code",
   "execution_count": 13,
   "metadata": {},
   "outputs": [
    {
     "name": "stdout",
     "output_type": "stream",
     "text": [
      "51013\n",
      "{'monkey', 'money'}\n"
     ]
    }
   ],
   "source": [
    "# Let's look at words that are two edits away\n",
    "print(len(set(edits_two(\"monney\"))))\n",
    "print(known(edits_one(\"monney\")))"
   ]
  },
  {
   "cell_type": "code",
   "execution_count": 14,
   "metadata": {},
   "outputs": [
    {
     "name": "stdout",
     "output_type": "stream",
     "text": [
      "{'monkey', 'money'}\n"
     ]
    }
   ],
   "source": [
    "# Let's look at possible corrections of a word\n",
    "print(possible_corrections(\"monney\"))"
   ]
  },
  {
   "cell_type": "code",
   "execution_count": 15,
   "metadata": {},
   "outputs": [
    {
     "name": "stdout",
     "output_type": "stream",
     "text": [
      "0.0002922233626303688\n",
      "5.378344097491451e-06\n"
     ]
    }
   ],
   "source": [
    "# Let's look at probability of a word\n",
    "print(prob(\"money\"))\n",
    "print(prob(\"monkey\"))"
   ]
  },
  {
   "cell_type": "code",
   "execution_count": 16,
   "metadata": {},
   "outputs": [],
   "source": [
    "def spell_check(word):\n",
    "    \"Print the most probable spelling correction for `word` out of all the `possible_corrections`\"\n",
    "    correct_word = max(possible_corrections(word), key=prob)\n",
    "    if correct_word != word:\n",
    "        return \"Did you mean \" + correct_word + \"?\"\n",
    "    else:\n",
    "        return \"Correct spelling.\""
   ]
  },
  {
   "cell_type": "code",
   "execution_count": 17,
   "metadata": {},
   "outputs": [
    {
     "name": "stdout",
     "output_type": "stream",
     "text": [
      "Did you mean money?\n"
     ]
    }
   ],
   "source": [
    "# test spell check\n",
    "print(spell_check(\"monney\"))"
   ]
  },
  {
   "cell_type": "code",
   "execution_count": 24,
   "metadata": {},
   "outputs": [
    {
     "data": {
      "text/plain": [
       "{'emphasize'}"
      ]
     },
     "execution_count": 24,
     "metadata": {},
     "output_type": "execute_result"
    }
   ],
   "source": [
    "possible_corrections(\"emfasize\")"
   ]
  }
 ],
 "metadata": {
  "kernelspec": {
   "display_name": "Python 3",
   "language": "python",
   "name": "python3"
  },
  "language_info": {
   "codemirror_mode": {
    "name": "ipython",
    "version": 3
   },
   "file_extension": ".py",
   "mimetype": "text/x-python",
   "name": "python",
   "nbconvert_exporter": "python",
   "pygments_lexer": "ipython3",
   "version": "3.7.3"
  }
 },
 "nbformat": 4,
 "nbformat_minor": 2
}
